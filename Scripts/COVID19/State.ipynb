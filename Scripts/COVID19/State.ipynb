{
 "metadata": {
  "language_info": {
   "codemirror_mode": {
    "name": "ipython",
    "version": 3
   },
   "file_extension": ".py",
   "mimetype": "text/x-python",
   "name": "python",
   "nbconvert_exporter": "python",
   "pygments_lexer": "ipython3",
   "version": "3.7.3-final"
  },
  "orig_nbformat": 2,
  "kernelspec": {
   "name": "python3",
   "display_name": "Python 3"
  }
 },
 "nbformat": 4,
 "nbformat_minor": 2,
 "cells": [
  {
   "cell_type": "code",
   "execution_count": 1,
   "metadata": {},
   "outputs": [],
   "source": [
    "import numpy as np\n",
    "import pandas as pd\n",
    "import matplotlib.pyplot as plt\n",
    "import datetime as dt\n",
    "from sklearn import preprocessing\n",
    "import csv"
   ]
  },
  {
   "cell_type": "code",
   "execution_count": null,
   "metadata": {
    "tags": []
   },
   "outputs": [],
   "source": [
    "rawDS = pd.read_csv(\"../FromAnil/UNM/Read/State_2020_9_9.csv\")\n",
    "#print(rawDS.head())\n",
    "\n",
    "# Remove columns with NA or missing values\n",
    "rawDS.dropna(axis=1, inplace=True)\n",
    "#print(rawDS.shape)\n",
    "\n",
    "# Convert date to days of year\n",
    "#rawDS['DSCR']=rawDS['date']\n",
    "rawDS['DSCR']=[dt.datetime.strptime(s, '%m/%d/%Y').timetuple().tm_yday for s in rawDS['date']]\n",
    "\n",
    "# Create cumulative cases for each state and take the record from non-zero cumNewCases\n",
    "rawDS['cumNewCases']=rawDS.groupby(['STFIPS'])['New cases/1000 people'].apply(lambda x: x.cumsum())\n",
    "\n",
    "# Drop rows when cumNewCases==0\n",
    "rawDS.drop(rawDS.loc[rawDS['cumNewCases']==0].index, inplace=True)\n",
    "rawDS.reset_index()\n",
    "print(rawDS.shape)\n",
    "\n",
    "# Create DSFC attribute\n",
    "rawDS['DSFC'] = rawDS.groupby(['STFIPS'])['DSCR'].apply(lambda x: x-min(x)+1)\n",
    "\n",
    "# Create daily covid exposure\n",
    "ceg = rawDS.groupby(['STFIPS'])['COVID exposure/1000 people']\n",
    "for group_name, df_group in ceg:\n",
    "    #print(group_name)\n",
    "    grval = [i for i in df_group]\n",
    "    prev = grval[0]\n",
    "    \n",
    "    td = []\n",
    "    td.append(prev)\n",
    "\n",
    "    for i in range(1,len(grval)):\n",
    "        y = grval[i]-prev\n",
    "        if y<0:\n",
    "            y=0\n",
    "        else:\n",
    "            prev=grval[i]\n",
    "        td.append(y)\n",
    "    rawDS.loc[rawDS['STFIPS']==group_name,'DailyCovidExposure']=td\n",
    "    print(min(rawDS.loc[rawDS['STFIPS']==group_name,'DailyCovidExposure']), max(rawDS.loc[rawDS['STFIPS']==group_name,'DailyCovidExposure']))\n",
    "\n",
    "del(ceg)\n",
    "del(df_group)\n",
    "del(group_name)\n",
    "del(grval)\n",
    "del(td)\n",
    "del(y)\n",
    "del(i)\n",
    "del(prev)\n",
    "\n",
    "# Compute test positivity rate\n",
    "rawDS['Positivity Rate'] = 0.0\n",
    "st = rawDS['STNAME'].unique()\n",
    "for sn in st:\n",
    "    t=((rawDS['STNAME']==sn) & (rawDS['Tests done/1000 people']))>0\n",
    "    rawDS.loc[t,'Positivity Rate']=100*(rawDS.loc[t,'New cases/1000 people']/rawDS.loc[t,'Tests done/1000 people'])\n",
    "del(st)\n",
    "del(t)\n",
    "del(sn)\n",
    "\n",
    "# Compute 7 days moving average with center\n",
    "rawDS['SDI']=rawDS.groupby(['STFIPS','STNAME'])['Social distancing index'].transform(lambda x: x.rolling(7, center=True).mean())\n",
    "rawDS['NewCases']=rawDS.groupby(['STFIPS','STNAME'])['New cases/1000 people'].transform(lambda x: x.rolling(7, center=True).mean())\n",
    "rawDS['TestingDone']=rawDS.groupby(['STFIPS','STNAME'])['Tests done/1000 people'].transform(lambda x: x.rolling(7, center=True).mean())\n",
    "rawDS['HospitalBedUtil']=rawDS.groupby(['STFIPS','STNAME'])['% hospital bed utilization'].transform(lambda x: x.rolling(7, center=True).mean())\n",
    "rawDS['CovidExposure']=rawDS.groupby(['STFIPS','STNAME'])['DailyCovidExposure'].transform(lambda x: x.rolling(7, center=True).mean())\n",
    "rawDS['PositivityRate']=rawDS.groupby(['STFIPS','STNAME'])['Positivity Rate'].transform(lambda x: x.rolling(7, center=True).mean())\n",
    "\n",
    "covidDS=pd.DataFrame(rawDS.loc[:,['STFIPS', 'STNAME','DSCR','DSFC','SDI','NewCases','TestingDone','HospitalBedUtil','CovidExposure','PositivityRate']])\n",
    "covidDS.dropna(inplace=True)\n",
    "#covidDS.reset_index(inplace=True)\n",
    "del(rawDS)\n",
    "\n",
    "# Merge region and division information\n",
    "stateDS = pd.DataFrame(pd.read_csv(\"../FromAnil/UNM/Read/state_code.csv\"))\n",
    "covidDS = pd.merge(covidDS, stateDS, on=['STFIPS','STNAME'])\n",
    "del(stateDS)\n",
    "\n",
    "# Sort data\n",
    "covidDS.sort_values(by=['STNAME','DSFC'], ascending=[True,True], inplace=True)\n",
    "covidDS.reset_index(inplace=True)\n",
    "\n",
    "# save covid data\n",
    "covidDS = pd.DataFrame(covidDS.loc[:,['STFIPS','STNAME','STNAMELONG','Region','Division','rColor','dColor','DSCR','DSFC','SDI','NewCases','TestingDone','HospitalBedUtil','CovidExposure','PositivityRate']], columns=['STFIPS','STNAME','STNAMELONG','Region','Division','rColor','dColor','DSCR','DSFC','SDI','NewCases','TestingDone','HospitalBedUtil','CovidExposure','PositivityRate'])\n",
    "\n",
    "covidDS.index = covidDS.index+1\n",
    "covidDS.to_csv(\"../FromAnil/UNM/Write/covid_state_MA.csv\", sep=',', index_label=\"rID\")\n",
    "covidDS.head()"
   ]
  },
  {
   "cell_type": "code",
   "execution_count": 3,
   "metadata": {
    "tags": []
   },
   "outputs": [
    {
     "output_type": "execute_result",
     "data": {
      "text/plain": "   STFIPS STNAME Region Division  DSCR  DSFC        SDI  NewCases  \\\n0       2     AK   West  Pacific   174   101  26.571429  0.018714   \n1       2     AK   West  Pacific   175   102  26.428571  0.020729   \n2       2     AK   West  Pacific   176   103  26.000000  0.021829   \n3       2     AK   West  Pacific   177   104  26.000000  0.023257   \n4       2     AK   West  Pacific   177   104  26.000000  0.023257   \n\n   TestingDone  HospitalBedUtil  CovidExposure  PositivityRate  ClusterID  \n0   123.577143             38.0       0.050000        0.015182         73  \n1   127.094286             38.0       0.051429        0.016185         73  \n2   130.710000             38.0       0.051429        0.016508         73  \n3   134.632857             38.0       0.051429        0.017026         73  \n4   134.632857             38.0       0.051429        0.017026         75  ",
      "text/html": "<div>\n<style scoped>\n    .dataframe tbody tr th:only-of-type {\n        vertical-align: middle;\n    }\n\n    .dataframe tbody tr th {\n        vertical-align: top;\n    }\n\n    .dataframe thead th {\n        text-align: right;\n    }\n</style>\n<table border=\"1\" class=\"dataframe\">\n  <thead>\n    <tr style=\"text-align: right;\">\n      <th></th>\n      <th>STFIPS</th>\n      <th>STNAME</th>\n      <th>Region</th>\n      <th>Division</th>\n      <th>DSCR</th>\n      <th>DSFC</th>\n      <th>SDI</th>\n      <th>NewCases</th>\n      <th>TestingDone</th>\n      <th>HospitalBedUtil</th>\n      <th>CovidExposure</th>\n      <th>PositivityRate</th>\n      <th>ClusterID</th>\n    </tr>\n  </thead>\n  <tbody>\n    <tr>\n      <th>0</th>\n      <td>2</td>\n      <td>AK</td>\n      <td>West</td>\n      <td>Pacific</td>\n      <td>174</td>\n      <td>101</td>\n      <td>26.571429</td>\n      <td>0.018714</td>\n      <td>123.577143</td>\n      <td>38.0</td>\n      <td>0.050000</td>\n      <td>0.015182</td>\n      <td>73</td>\n    </tr>\n    <tr>\n      <th>1</th>\n      <td>2</td>\n      <td>AK</td>\n      <td>West</td>\n      <td>Pacific</td>\n      <td>175</td>\n      <td>102</td>\n      <td>26.428571</td>\n      <td>0.020729</td>\n      <td>127.094286</td>\n      <td>38.0</td>\n      <td>0.051429</td>\n      <td>0.016185</td>\n      <td>73</td>\n    </tr>\n    <tr>\n      <th>2</th>\n      <td>2</td>\n      <td>AK</td>\n      <td>West</td>\n      <td>Pacific</td>\n      <td>176</td>\n      <td>103</td>\n      <td>26.000000</td>\n      <td>0.021829</td>\n      <td>130.710000</td>\n      <td>38.0</td>\n      <td>0.051429</td>\n      <td>0.016508</td>\n      <td>73</td>\n    </tr>\n    <tr>\n      <th>3</th>\n      <td>2</td>\n      <td>AK</td>\n      <td>West</td>\n      <td>Pacific</td>\n      <td>177</td>\n      <td>104</td>\n      <td>26.000000</td>\n      <td>0.023257</td>\n      <td>134.632857</td>\n      <td>38.0</td>\n      <td>0.051429</td>\n      <td>0.017026</td>\n      <td>73</td>\n    </tr>\n    <tr>\n      <th>4</th>\n      <td>2</td>\n      <td>AK</td>\n      <td>West</td>\n      <td>Pacific</td>\n      <td>177</td>\n      <td>104</td>\n      <td>26.000000</td>\n      <td>0.023257</td>\n      <td>134.632857</td>\n      <td>38.0</td>\n      <td>0.051429</td>\n      <td>0.017026</td>\n      <td>75</td>\n    </tr>\n  </tbody>\n</table>\n</div>"
     },
     "metadata": {},
     "execution_count": 3
    }
   ],
   "source": [
    "## Analysis on selected nodes\n",
    "rawDS = pd.DataFrame(pd.read_csv(\"../FromAnil/UNM/Analysis/covid_state_7MA_2_br.csv\"))\n",
    "rawDS.head()\n",
    "rawDS.drop(labels=['rID'], axis=1, inplace=True)\n",
    "rawDS.head()"
   ]
  },
  {
   "cell_type": "code",
   "execution_count": 7,
   "metadata": {},
   "outputs": [],
   "source": [
    "# Create class frature\n",
    "rawDS['class'] = 'B'\n",
    "rawDS.loc[rawDS['ClusterID']==88, 'class']='C'\n",
    "for i in [74,76,78,80,82,84,86,89,91,93]:\n",
    "    rawDS.loc[rawDS['ClusterID']==i, 'class']='A'"
   ]
  },
  {
   "cell_type": "code",
   "execution_count": 11,
   "metadata": {},
   "outputs": [
    {
     "output_type": "execute_result",
     "data": {
      "text/plain": "array(['B'], dtype=object)"
     },
     "metadata": {},
     "execution_count": 11
    }
   ],
   "source": [
    "# Decision tree based analysis\n"
   ]
  },
  {
   "cell_type": "code",
   "execution_count": null,
   "metadata": {
    "tags": []
   },
   "outputs": [],
   "source": [
    "# Plot for all states\n",
    "\n",
    "st=10\n",
    "sIDs = covidDS['STNAME'].unique()\n",
    "print(sIDs)\n",
    "scaler = preprocessing.MinMaxScaler()\n",
    "\n",
    "x = covidDS.loc[covidDS['STNAME']=='LA']['DSFC']\n",
    "y=pd.DataFrame(scaler.fit_transform(covidDS.loc[covidDS['STNAME']==sIDs[st],['SDI','NewCases','TestingDone','HospitalBedUtil','CovidExposure','PositivityRate']]), columns=['SDI','NewCases','TestingDone','HospitalBedUtil','CovidExposure','PositivityRate'])\n",
    "plt.plot(x,y['SDI'],'red')\n",
    "plt.plot(x,y['NewCases'],'green')\n",
    "plt.plot(x,y['TestingDone'],'blue')\n",
    "plt.plot(x,y['HospitalBedUtil'],'darkorange')\n",
    "plt.plot(x,y['CovidExposure'],'darkcyan')\n",
    "plt.plot(x,y['PositivityRate'],'purple')\n",
    "plt.title('State code: '+sIDs[st])    \n",
    "\n",
    "del(y)\n"
   ]
  },
  {
   "cell_type": "code",
   "execution_count": null,
   "metadata": {
    "tags": []
   },
   "outputs": [],
   "source": [
    "print(np.std(covidDS['NewCases']), np.std(covidDS['PositivityRate']))"
   ]
  },
  {
   "cell_type": "code",
   "execution_count": null,
   "metadata": {},
   "outputs": [],
   "source": []
  }
 ]
}